{
 "cells": [
  {
   "cell_type": "markdown",
   "metadata": {},
   "source": [
    "Hello! I thought I would share the notebook that we made last time, with additional activities and questions for everyone to work on. You can answer an unanswered question in the notebook, or provide an alternate solution for an already answered question.\n",
    "\n",
    "Just share your thoughts in comments, and comment your name after each answer you provide."
   ]
  },
  {
   "cell_type": "code",
   "execution_count": null,
   "metadata": {},
   "outputs": [],
   "source": [
    "# This is a comment. It is after the \"hash\", which means it will not be run as python code.\n",
    "\n",
    "'''\n",
    "This is another way to comment,\n",
    "if you want to comment multiple lines.\n",
    "\n",
    "This is helpful to hide a part of code that is multiple lines, and that you don't need at the moment.\n",
    "\n",
    "Use three apostophes to open and close the comment.\n",
    "'''\n",
    "\n",
    "\n",
    "# Package importing:\n",
    "import pandas as pd\n",
    "import numpy as np\n",
    "import matplotlib.pyplot as plt\n",
    "\n",
    "# Fancier plotting package:\n",
    "import seaborn as sns\n",
    "\n",
    "# Geospatial (map) plotting package:\n",
    "import folium"
   ]
  },
  {
   "cell_type": "code",
   "execution_count": null,
   "metadata": {},
   "outputs": [],
   "source": [
    "# Linear (linspace) numbers from 0 to 10. There's also a logspace option in numpy.\n",
    "x = np.linspace(0,10,11)\n",
    "#print(x)\n",
    "\n",
    "#Random data points:\n",
    "y = np.random.randn(11)\n",
    "\n",
    "# Using a little for loop to "
   ]
  },
  {
   "cell_type": "code",
   "execution_count": null,
   "metadata": {},
   "outputs": [],
   "source": [
    "#Plotting basics:\n",
    "plt.figsize(10, 10, dpi=1000)\n",
    "plt.scatter(x, y, c='r', s = 10**2)\n",
    "plt.savefig(\"randomPoints.jpg\")"
   ]
  },
  {
   "cell_type": "markdown",
   "metadata": {},
   "source": [
    "Challenge: Save the x and y variable data as a pandas dataframe, then a .csv file.\n",
    "\n",
    "Hint: Use pd.Series, pd.DataFrame, pd.to_csv. Look up how to use these! You can even use numpy to save as csv, if you want to skip using pandas (but pandas is really cool)."
   ]
  },
  {
   "cell_type": "code",
   "execution_count": null,
   "metadata": {},
   "outputs": [],
   "source": []
  }
 ],
 "metadata": {
  "kernelspec": {
   "display_name": "Python 3",
   "language": "python",
   "name": "python3"
  },
  "language_info": {
   "codemirror_mode": {
    "name": "ipython",
    "version": 3
   },
   "file_extension": ".py",
   "mimetype": "text/x-python",
   "name": "python",
   "nbconvert_exporter": "python",
   "pygments_lexer": "ipython3",
   "version": "3.7.6"
  }
 },
 "nbformat": 4,
 "nbformat_minor": 4
}
